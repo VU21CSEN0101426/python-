{
  "nbformat": 4,
  "nbformat_minor": 0,
  "metadata": {
    "colab": {
      "name": "Module 2",
      "provenance": [],
      "collapsed_sections": [],
      "authorship_tag": "ABX9TyMxVcBoN9YAsq7XqZ6jsbZG",
      "include_colab_link": true
    },
    "kernelspec": {
      "name": "python3",
      "display_name": "Python 3"
    },
    "language_info": {
      "name": "python"
    }
  },
  "cells": [
    {
      "cell_type": "markdown",
      "metadata": {
        "id": "view-in-github",
        "colab_type": "text"
      },
      "source": [
        "<a href=\"https://colab.research.google.com/github/VU21CSEN0101426/python-/blob/module-2/Module_2.ipynb\" target=\"_parent\"><img src=\"https://colab.research.google.com/assets/colab-badge.svg\" alt=\"Open In Colab\"/></a>"
      ]
    },
    {
      "cell_type": "markdown",
      "source": [
        "Create a function which accepts two inputs from the user and compute nCr"
      ],
      "metadata": {
        "id": "e_Ze1TNMjBgs"
      }
    },
    {
      "cell_type": "code",
      "execution_count": null,
      "metadata": {
        "colab": {
          "base_uri": "https://localhost:8080/"
        },
        "id": "J0cpeL3ssEwX",
        "outputId": "5bed796f-f17f-4cac-e284-c30b43dea491"
      },
      "outputs": [
        {
          "output_type": "stream",
          "name": "stdout",
          "text": [
            "4\n",
            "5\n",
            "1\n"
          ]
        }
      ],
      "source": [
        "def nCr(a,b):\n",
        "  return(fact(a)/(fact(b)*fact(a-b)))\n",
        "a=int(input(\"\"))\n",
        "b=int(input(\"\"))\n",
        "def fact(a):\n",
        "  res=1\n",
        "  for i in range(2,a+1):\n",
        "    res=res*1\n",
        "  return res\n",
        "print(int(nCr(a,b)))"
      ]
    },
    {
      "cell_type": "markdown",
      "source": [
        "Program to print a specified list after removing the 0th, 4th and 5th elements.\n",
        "Sample List : ['Red', 'Green', 'White', 'Black', 'Pink', 'Yellow']\n",
        "Expected Output : ['Green', 'White', 'Black']"
      ],
      "metadata": {
        "id": "vE0-AF-m2w2q"
      }
    },
    {
      "cell_type": "code",
      "source": [
        "color=[\"Red\",\"Green\",\"White\",\"Black\",\"Pink\",\"Yellow\"]\n",
        "color.remove(\"Red\")\n",
        "color.remove(\"Pink\")\n",
        "color.remove(\"Yellow\")\n",
        "print(color)"
      ],
      "metadata": {
        "colab": {
          "base_uri": "https://localhost:8080/"
        },
        "id": "xQp38KER0EiS",
        "outputId": "8625771a-fa70-49e0-9d77-332c6bd1bbeb"
      },
      "execution_count": null,
      "outputs": [
        {
          "output_type": "stream",
          "name": "stdout",
          "text": [
            "['Green', 'White', 'Black']\n"
          ]
        }
      ]
    },
    {
      "cell_type": "markdown",
      "source": [
        "Program to get the difference between the two lists"
      ],
      "metadata": {
        "id": "z1cvsXPw5wqo"
      }
    },
    {
      "cell_type": "code",
      "source": [
        "list1=[10,20,30,40,50]\n",
        "list2=[1,2,3,4]\n",
        "a=set(list1)\n",
        "b=set(list2)\n",
        "print(a)\n",
        "print(b)\n",
        "c=a.difference(b)\n",
        "print(c)\n",
        "x=list(a)\n",
        "y=list(b)\n",
        "print(x)\n",
        "print(y)\n",
        "\n",
        "\n"
      ],
      "metadata": {
        "colab": {
          "base_uri": "https://localhost:8080/"
        },
        "id": "nXAioRY25ytX",
        "outputId": "8965de1f-71ec-4859-fa34-162208740fe2"
      },
      "execution_count": null,
      "outputs": [
        {
          "output_type": "stream",
          "name": "stdout",
          "text": [
            "{40, 10, 50, 20, 30}\n",
            "{1, 2, 3, 4}\n",
            "{40, 10, 50, 20, 30}\n",
            "[40, 10, 50, 20, 30]\n",
            "[1, 2, 3, 4]\n"
          ]
        }
      ]
    },
    {
      "cell_type": "markdown",
      "source": [
        "Program to remove a key from a dictionary"
      ],
      "metadata": {
        "id": "IcCNbMRfjPEF"
      }
    },
    {
      "cell_type": "code",
      "source": [
        "food={\"dish\":\"chicken\",\"flavour\":\"spicy\",\"pieces\":\"6\"}\n",
        "print(food)\n",
        "if 'dish' in food:\n",
        "    del food[\"pieces\"]\n",
        "print(food)"
      ],
      "metadata": {
        "colab": {
          "base_uri": "https://localhost:8080/"
        },
        "id": "u3QWpevjBLDQ",
        "outputId": "4644a52b-6519-45c6-9093-162c3f704765"
      },
      "execution_count": null,
      "outputs": [
        {
          "output_type": "stream",
          "name": "stdout",
          "text": [
            "{'dish': 'chicken', 'flavour': 'spicy', 'pieces': '6'}\n",
            "{'dish': 'chicken', 'flavour': 'spicy'}\n"
          ]
        }
      ]
    },
    {
      "cell_type": "markdown",
      "source": [
        "Python function that accepts a string and calculates the number of uppercase\n",
        "letters and lowercase letters."
      ],
      "metadata": {
        "id": "cs0FkCcVEAjM"
      }
    },
    {
      "cell_type": "code",
      "source": [
        "def string_test(s):\n",
        "    d={\"UPPER_CASE\":0, \"LOWER_CASE\":0}\n",
        "    for c in s:\n",
        "        if c.isupper():\n",
        "           d[\"UPPER_CASE\"]+=1\n",
        "        elif c.islower():\n",
        "           d[\"LOWER_CASE\"]+=1\n",
        "        else:\n",
        "           pass\n",
        "    print (\"Original String : \", s)\n",
        "    print (\"No. of Upper case characters : \", d[\"UPPER_CASE\"])\n",
        "    print (\"No. of Lower case Characters : \", d[\"LOWER_CASE\"])\n",
        "\n",
        "string_test('I am a fan of BTS and BLACKPINK')"
      ],
      "metadata": {
        "colab": {
          "base_uri": "https://localhost:8080/"
        },
        "id": "BsgwE9fhDxWu",
        "outputId": "b9e36d3d-5b97-445a-9b08-60b51cca2108"
      },
      "execution_count": null,
      "outputs": [
        {
          "output_type": "stream",
          "name": "stdout",
          "text": [
            "Original String :  I am a fan of BTS and BLACKPINK\n",
            "No. of Upper case characters :  13\n",
            "No. of Lower case Characters :  11\n"
          ]
        }
      ]
    },
    {
      "cell_type": "markdown",
      "source": [
        "Program to get the maximum and minimum value in a dictionary"
      ],
      "metadata": {
        "id": "kL1DrkvJFZFw"
      }
    },
    {
      "cell_type": "code",
      "source": [
        "food={\"dish\":\"chicken\",\"flavour\":\"spicy\",\"pieces\":\"6\"}\n",
        "min_key = min(food, key=food.get)\n",
        "max_key = max(food, key=food.get)\n",
        "print(food.get(min_key))\n",
        "print(food.get(max_key))"
      ],
      "metadata": {
        "colab": {
          "base_uri": "https://localhost:8080/"
        },
        "id": "RMTJg8CNFb7g",
        "outputId": "c522e8bb-38b9-4c07-96d6-fdaa7413952b"
      },
      "execution_count": null,
      "outputs": [
        {
          "output_type": "stream",
          "name": "stdout",
          "text": [
            "6\n",
            "spicy\n"
          ]
        }
      ]
    },
    {
      "cell_type": "markdown",
      "source": [
        "Given a list of numbers of list, write a Python program to create a list of tuples\n",
        "having first element as the number and second element as the square of the\n",
        "number."
      ],
      "metadata": {
        "id": "-fyeEJJ_IOtk"
      }
    },
    {
      "cell_type": "code",
      "source": [
        "x = [10,20,30,40,50]\n",
        "print(\"The list is\")\n",
        "print(x)\n",
        "print(\"The resultant tuple is :\")\n",
        "result = [(val, pow(val, 2)) for val in x]\n",
        "print(result)"
      ],
      "metadata": {
        "colab": {
          "base_uri": "https://localhost:8080/"
        },
        "id": "8YTvGdTqITMl",
        "outputId": "95de0325-97ba-419e-862a-4d2377e460af"
      },
      "execution_count": null,
      "outputs": [
        {
          "output_type": "stream",
          "name": "stdout",
          "text": [
            "The list is\n",
            "[10, 20, 30, 40, 50]\n",
            "The resultant tuple is :\n",
            "[(10, 100), (20, 400), (30, 900), (40, 1600), (50, 2500)]\n"
          ]
        }
      ]
    },
    {
      "cell_type": "markdown",
      "source": [
        "Given list of tuples, remove all the tuples with length K.\n",
        "Input : test_list = [(4, 5), (4, ), (8, 6, 7), (1, ), (3, 4, 6, 7)], K = 2 \n",
        "Output : [(4, ), (8, 6, 7), (1, ), (3, 4, 6, 7)] "
      ],
      "metadata": {
        "id": "OA2RC0_udJco"
      }
    },
    {
      "cell_type": "code",
      "source": [
        "test_list = [(4, 5), (4, ), (8,6,7), (1, ), (3, 4, 6, 7)]\n",
        "new_list=[]\n",
        "K=2\n",
        "for x in test_list:\n",
        " if len(x)!=K:\n",
        "    new_list.append(x)\n",
        "print(\"The filtered list without containing any element of tupple length '2' is:\",new_list)\n"
      ],
      "metadata": {
        "colab": {
          "base_uri": "https://localhost:8080/"
        },
        "id": "S0KMTo_vcd2U",
        "outputId": "995a304e-b499-42d0-cfa0-504f2898a298"
      },
      "execution_count": null,
      "outputs": [
        {
          "output_type": "stream",
          "name": "stdout",
          "text": [
            "The filtered list without containing any element of tupple length '2' is: [(4,), (8, 6, 7), (1,), (3, 4, 6, 7)]\n"
          ]
        }
      ]
    },
    {
      "cell_type": "markdown",
      "source": [
        "Program to perform operations on string using unicodes ,splitting of string,accessing elements of string using locations"
      ],
      "metadata": {
        "id": "vcZO1fCfeQOO"
      }
    },
    {
      "cell_type": "code",
      "source": [
        "string=input(\"enter a string: \")\n",
        "print(string.split())\n",
        "print(string[4:19])\n",
        "\n"
      ],
      "metadata": {
        "colab": {
          "base_uri": "https://localhost:8080/"
        },
        "id": "voT0GP6JeWh2",
        "outputId": "2a42ffd7-a2ef-47fd-9791-07866d2757e0"
      },
      "execution_count": null,
      "outputs": [
        {
          "output_type": "stream",
          "name": "stdout",
          "text": [
            "enter a string: Mathematics is the easiest subject in 2nd semester\n",
            "['Mathematics', 'is', 'the', 'easiest', 'subject', 'in', '2nd', 'semester']\n",
            "ematics is the \n"
          ]
        }
      ]
    },
    {
      "cell_type": "markdown",
      "source": [
        "Program for Counting occurrence of a certain element in a string, getting indexes that have matching elements"
      ],
      "metadata": {
        "id": "9GFh4ZexgN7a"
      }
    },
    {
      "cell_type": "code",
      "source": [
        "str_1=\"I am studying in gitam university\"\n",
        "print(str_1.count('i'))\n",
        "str_2=\"i am a part of NCC when i joined gitam\"\n",
        "print(str_2.count('a'))\n"
      ],
      "metadata": {
        "colab": {
          "base_uri": "https://localhost:8080/"
        },
        "id": "CZ_-dt7qfFaU",
        "outputId": "a56a258d-3e24-48b5-a843-19d9c9cdaeea"
      },
      "execution_count": null,
      "outputs": [
        {
          "output_type": "stream",
          "name": "stdout",
          "text": [
            "5\n",
            "4\n"
          ]
        }
      ]
    },
    {
      "cell_type": "markdown",
      "source": [
        "Program for replacing one substring by another"
      ],
      "metadata": {
        "id": "ROwGjdShgP6v"
      }
    },
    {
      "cell_type": "code",
      "source": [
        "string='keerthi '\n",
        "new_string=string.replace('ee','gg')\n",
        "print(new_string)\n"
      ],
      "metadata": {
        "colab": {
          "base_uri": "https://localhost:8080/"
        },
        "id": "zHsbBfywgXGd",
        "outputId": "2ca35d9e-b732-447c-d1e7-45d493ae0dcd"
      },
      "execution_count": null,
      "outputs": [
        {
          "output_type": "stream",
          "name": "stdout",
          "text": [
            "kggrthi \n"
          ]
        }
      ]
    },
    {
      "cell_type": "markdown",
      "source": [
        "Program to Acronym generator for any user input"
      ],
      "metadata": {
        "id": "K__oAPo-gm0U"
      }
    },
    {
      "cell_type": "code",
      "source": [
        "string1=input(\"enter some string:\")\n",
        "a=string1.split()\n",
        "for i in a:\n",
        " print(i[0],end='')\n"
      ],
      "metadata": {
        "colab": {
          "base_uri": "https://localhost:8080/"
        },
        "id": "My9Zg6Z1hIvb",
        "outputId": "9cda3b84-a3c0-4bd3-8796-1ae0378d964f"
      },
      "execution_count": null,
      "outputs": [
        {
          "output_type": "stream",
          "name": "stdout",
          "text": [
            "enter some string:RANDOM MEMORY ACCESS \n",
            "RMA"
          ]
        }
      ]
    },
    {
      "cell_type": "markdown",
      "source": [
        "Program to count the number of strings where the string length is 2 or more and the first and last character are same from a given list of strings "
      ],
      "metadata": {
        "id": "ib441Qp7iAtL"
      }
    },
    {
      "cell_type": "code",
      "source": [
        "def match_words(words):\n",
        "  ctr = 0\n",
        "  for word in words:\n",
        "    if len(word) > 1 and word[0] == word[-1]:\n",
        "      ctr += 1\n",
        "  return ctr\n",
        "print(match_words(['abc', 'xyz', 'aba', '1221']))"
      ],
      "metadata": {
        "colab": {
          "base_uri": "https://localhost:8080/"
        },
        "id": "69cCC2uyigpD",
        "outputId": "89923378-d313-4107-a3c5-42ec37a68f19"
      },
      "execution_count": null,
      "outputs": [
        {
          "output_type": "stream",
          "name": "stdout",
          "text": [
            "2\n"
          ]
        }
      ]
    },
    {
      "cell_type": "markdown",
      "source": [
        "Program to find the second smallest number and second largest number in a list.\n"
      ],
      "metadata": {
        "id": "mlIarER4kRFB"
      }
    },
    {
      "cell_type": "code",
      "source": [
        "list=[3,5,6,4,8,234,564,789,103,34,675,0,1.9,0.8]\n",
        "list.sort()\n",
        "print(list)\n",
        "print(\"The second smallest number in the given list is: \",list[1])\n",
        "print(\"The second largest number in the given list is:\",list[len(list)-2])"
      ],
      "metadata": {
        "colab": {
          "base_uri": "https://localhost:8080/"
        },
        "id": "BdbvOEFokWC-",
        "outputId": "4f757ed5-dcd9-4ef0-ad70-b4a470263410"
      },
      "execution_count": null,
      "outputs": [
        {
          "output_type": "stream",
          "name": "stdout",
          "text": [
            "[0, 0.8, 1.9, 3, 4, 5, 6, 8, 34, 103, 234, 564, 675, 789]\n",
            "The second smallest number in the given list is:  0.8\n",
            "The second largest number in the given list is: 675\n"
          ]
        }
      ]
    },
    {
      "cell_type": "markdown",
      "source": [
        "Program to generate and print a dictionary that contains a number (between 1\n",
        "and n) in the form (x, x*x). "
      ],
      "metadata": {
        "id": "vz3ry3rok-E8"
      }
    },
    {
      "cell_type": "code",
      "source": [
        "a=dict()\n",
        "b=int(input(\"Enter a number: \"))\n",
        "for i in range(1,b+1):\n",
        "  a.update({i:i**2})\n",
        "print(\"The obtained dictionary is:\",a)"
      ],
      "metadata": {
        "colab": {
          "base_uri": "https://localhost:8080/"
        },
        "id": "Tj1lHg1FlJ1g",
        "outputId": "4d3e9a48-75ca-490a-90d7-a04fe4da54ba"
      },
      "execution_count": null,
      "outputs": [
        {
          "output_type": "stream",
          "name": "stdout",
          "text": [
            "Enter a number: 12\n",
            "The obtained dictionary is: {1: 1, 2: 4, 3: 9, 4: 16, 5: 25, 6: 36, 7: 49, 8: 64, 9: 81, 10: 100, 11: 121, 12: 144}\n"
          ]
        }
      ]
    }
  ]
}