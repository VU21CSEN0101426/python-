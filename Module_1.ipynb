{
  "nbformat": 4,
  "nbformat_minor": 0,
  "metadata": {
    "colab": {
      "name": "Module 1",
      "provenance": [],
      "authorship_tag": "ABX9TyNLSGUjpXiPL0uNhucrXAwS",
      "include_colab_link": true
    },
    "kernelspec": {
      "name": "python3",
      "display_name": "Python 3"
    },
    "language_info": {
      "name": "python"
    }
  },
  "cells": [
    {
      "cell_type": "markdown",
      "metadata": {
        "id": "view-in-github",
        "colab_type": "text"
      },
      "source": [
        "<a href=\"https://colab.research.google.com/github/VU21CSEN0101426/python-/blob/module-1/Module_1.ipynb\" target=\"_parent\"><img src=\"https://colab.research.google.com/assets/colab-badge.svg\" alt=\"Open In Colab\"/></a>"
      ]
    },
    {
      "cell_type": "markdown",
      "source": [
        " Accept input from user and store it in variable and print the value.\n"
      ],
      "metadata": {
        "id": "ag73SN3Plzyt"
      }
    },
    {
      "cell_type": "code",
      "source": [
        "a = input(\"Enter your value: \")\n",
        "print(a)"
      ],
      "metadata": {
        "colab": {
          "base_uri": "https://localhost:8080/"
        },
        "id": "F2ObYs2Al3ne",
        "outputId": "0521f284-83e4-4043-dd6d-271be9ea47b3"
      },
      "execution_count": null,
      "outputs": [
        {
          "output_type": "stream",
          "name": "stdout",
          "text": [
            "Enter your value: 234\n",
            "234\n"
          ]
        }
      ]
    },
    {
      "cell_type": "markdown",
      "source": [
        "Take 2 numbers as user input and add, multiply, divide, subtract, remainder and print the output"
      ],
      "metadata": {
        "id": "P-qX9Kb4m4HD"
      }
    },
    {
      "cell_type": "code",
      "source": [
        "num1 = int(input(\"Enter First Number: \"))\n",
        "num2 = int(input(\"Enter Second Number: \"))\n",
        "\n",
        "print(\"Enter which operation would you like to perform?\")\n",
        "ch = input(\"Enter any of these char for specific operation +,-,*,/: \")\n",
        "\n",
        "result = 0\n",
        "if ch == '+':\n",
        "    result = num1 + num2\n",
        "elif ch == '-':\n",
        "    result = num1 - num2\n",
        "elif ch == '*':\n",
        "    result = num1 * num2\n",
        "elif ch == '/':\n",
        "    result = num1 / num2\n",
        "else:\n",
        "    print(\"Input character is not recognized!\")\n",
        "\n",
        "print(num1, ch , num2, \":\", result)"
      ],
      "metadata": {
        "colab": {
          "base_uri": "https://localhost:8080/"
        },
        "id": "kuFs5aCCm4mv",
        "outputId": "624e2f61-77a5-430e-f94f-45c59b5613fd"
      },
      "execution_count": null,
      "outputs": [
        {
          "output_type": "stream",
          "name": "stdout",
          "text": [
            "Enter First Number: 23 \n",
            "Enter Second Number: 34\n",
            "Enter which operation would you like to perform?\n",
            "Enter any of these char for specific operation +,-,*,/: +\n",
            "23 + 34 : 57\n"
          ]
        }
      ]
    },
    {
      "cell_type": "markdown",
      "source": [
        "Building a mathematical calculator that can perform operations according to user input.\n",
        "Use decision making statement.\n"
      ],
      "metadata": {
        "id": "EIXOuc1jnGCC"
      }
    },
    {
      "cell_type": "code",
      "source": [
        "a=float(input(\"enter the number\"))\n",
        "b=float(input(\"enter the number\"))\n",
        "i=input(\"enter operation\")\n",
        "if i==\"+\":\n",
        "  print(a+b)\n",
        "elif i==\"-\":\n",
        "  print(a-b)\n",
        "elif i==\"%\":\n",
        "  print(a*b)\n",
        "elif i==\"*\":\n",
        "  print(a*b)\n",
        "else:\n",
        "  print(a/b)"
      ],
      "metadata": {
        "colab": {
          "base_uri": "https://localhost:8080/"
        },
        "id": "MQ9fOon6oXG2",
        "outputId": "a9da3fe0-6a50-4620-9f89-aa54910bba09"
      },
      "execution_count": null,
      "outputs": [
        {
          "output_type": "stream",
          "name": "stdout",
          "text": [
            "enter the number4\n",
            "enter the number5\n",
            "enter operation+\n",
            "9.0\n"
          ]
        }
      ]
    },
    {
      "cell_type": "markdown",
      "source": [
        "Accepting 5 different subject marks from user and displaying the grade of the student.\n"
      ],
      "metadata": {
        "id": "6Vj6uYZmpjgW"
      }
    },
    {
      "cell_type": "code",
      "source": [
        "sub1=int(input(\"Enter marks of the first subject: \"))\n",
        "sub2=int(input(\"Enter marks of the second subject: \"))\n",
        "sub3=int(input(\"Enter marks of the third subject: \"))\n",
        "sub4=int(input(\"Enter marks of the fourth subject: \"))\n",
        "sub5=int(input(\"Enter marks of the fifth subject: \"))\n",
        "a=(sub1+sub2+sub3+sub4+sub4)/5\n",
        "if(a>=90):\n",
        "    print(\"Grade: A\")\n",
        "elif(a>=80 and a<90):\n",
        "    print(\"Grade: B\")\n",
        "elif(a>=70 and a<80):\n",
        "    print(\"Grade: C\")\n",
        "elif(a>=60 and a5<70):\n",
        "    print(\"Grade: D\")\n",
        "else:\n",
        "    print(\"Grade: F\")"
      ],
      "metadata": {
        "colab": {
          "base_uri": "https://localhost:8080/"
        },
        "id": "QMggxTEFpjvY",
        "outputId": "eb36dcc5-e1ee-49b2-848f-ed8dde58e533"
      },
      "execution_count": null,
      "outputs": [
        {
          "output_type": "stream",
          "name": "stdout",
          "text": [
            "Enter marks of the first subject: 56\n",
            "Enter marks of the second subject: 55\n",
            "Enter marks of the third subject: 54\n",
            "Enter marks of the fourth subject: 3\n",
            "Enter marks of the fifth subject: 53\n",
            "Grade: F\n"
          ]
        }
      ]
    },
    {
      "cell_type": "markdown",
      "source": [
        "Printing all even numbers, odd numbers, count of even numbers, count of odd numbers within a given range."
      ],
      "metadata": {
        "id": "tooicf-2q8SK"
      }
    },
    {
      "cell_type": "code",
      "source": [
        "n=int(input(\"enter range\"))\n",
        "c=0\n",
        "for i in range(1,n+1):\n",
        "  if i%2==0:\n",
        "    c+=1\n",
        "    print(i)\n",
        "print(\"even count is\",c)\n",
        "d=0\n",
        "for i in range(1,n+1):\n",
        "  if i%2!=0:\n",
        "    d+=1\n",
        "    print(1)\n",
        "print(\"odd count is\",d)\n"
      ],
      "metadata": {
        "colab": {
          "base_uri": "https://localhost:8080/"
        },
        "id": "BoMvKTRdrRlr",
        "outputId": "153183c7-e64f-456b-9561-94fc6740f52b"
      },
      "execution_count": null,
      "outputs": [
        {
          "output_type": "stream",
          "name": "stdout",
          "text": [
            "enter range5\n",
            "2\n",
            "4\n",
            "even count is 2\n",
            "1\n",
            "1\n",
            "1\n",
            "odd count is 3\n"
          ]
        }
      ]
    },
    {
      "cell_type": "markdown",
      "source": [
        "Compute the factorial of a given number"
      ],
      "metadata": {
        "id": "JqQpvBT8r9WL"
      }
    },
    {
      "cell_type": "code",
      "source": [
        "n=int(input(\"enter a number\"))\n",
        "fac=1\n",
        "for i in range(1,n+1):\n",
        "   fac=fac*i\n",
        "   print(fac)"
      ],
      "metadata": {
        "colab": {
          "base_uri": "https://localhost:8080/"
        },
        "id": "jOX9S5tzsdjv",
        "outputId": "4878bcba-5608-4bb2-e8d1-a10639960a53"
      },
      "execution_count": null,
      "outputs": [
        {
          "output_type": "stream",
          "name": "stdout",
          "text": [
            "enter a number6\n",
            "1\n",
            "2\n",
            "6\n",
            "24\n",
            "120\n",
            "720\n"
          ]
        }
      ]
    },
    {
      "cell_type": "markdown",
      "source": [
        "Compute GCD of two given"
      ],
      "metadata": {
        "id": "b12kkne2sgNz"
      }
    },
    {
      "cell_type": "code",
      "source": [
        "a=int(input(\"enter a number\"))\n",
        "b=int(input(\"enter a number\"))\n",
        "k=a if a<b else b\n",
        "while True:\n",
        "  if a%k==0 and b%k==0:\n",
        "    break\n",
        "    k+=1\n",
        "  print(k)"
      ],
      "metadata": {
        "colab": {
          "base_uri": "https://localhost:8080/"
        },
        "id": "QcJhnIwDsprT",
        "outputId": "37414777-f1ca-4841-b28f-9eae85270ac7"
      },
      "execution_count": null,
      "outputs": [
        {
          "name": "stdout",
          "output_type": "stream",
          "text": [
            "enter a number10\n",
            "enter a number20\n"
          ]
        }
      ]
    },
    {
      "cell_type": "markdown",
      "source": [
        "Generate Fibonacci series up to N numbers."
      ],
      "metadata": {
        "id": "FDhJkopPtiLI"
      }
    },
    {
      "cell_type": "code",
      "source": [
        "n = int(input(\"Enter the nth value: \"))\n",
        "a = 0\n",
        "b = 1\n",
        "sum = 0\n",
        "print(\"Fibonacci Series : \", end = \" \")\n",
        "while(sum <= n):\n",
        "     print(sum, end = \" \")\n",
        "     a = b\n",
        "     b = sum\n",
        "     sum = a + b"
      ],
      "metadata": {
        "colab": {
          "base_uri": "https://localhost:8080/"
        },
        "id": "cpwlimzCtrMz",
        "outputId": "82e24a4b-fdd3-44f8-fb82-288143ac142c"
      },
      "execution_count": null,
      "outputs": [
        {
          "output_type": "stream",
          "name": "stdout",
          "text": [
            "Enter the nth value: 5\n",
            "Fibonacci Series :  0 1 1 2 3 5 "
          ]
        }
      ]
    },
    {
      "cell_type": "markdown",
      "source": [
        " palindrome"
      ],
      "metadata": {
        "id": "Tx4S34VetxWG"
      }
    },
    {
      "cell_type": "code",
      "source": [
        "number=int(input(\"Enter any number :\"))\n",
        "temp=number\n",
        "reverse_num=0\n",
        "while(number>0):\n",
        "digits =number%10\n",
        "reverse_num=reverse_num*10+digits\n",
        "number=number//10\n",
        "if(temp==reverse_num):\n",
        "    print(\"The number is palindrome!\")\n",
        "else:\n",
        "    print(\"Not a palindrome!\")\n",
        "alindrome number!\")  \n",
        "else:  \n",
        "    print(\"This value is not a palindrome number!\")  "
      ],
      "metadata": {
        "colab": {
          "base_uri": "https://localhost:8080/",
          "height": 134
        },
        "id": "BB4hQ1P6uAxf",
        "outputId": "0a6dae66-86a6-46ce-b92a-8f2a98e948b3"
      },
      "execution_count": null,
      "outputs": [
        {
          "output_type": "error",
          "ename": "IndentationError",
          "evalue": "ignored",
          "traceback": [
            "\u001b[0;36m  File \u001b[0;32m\"<ipython-input-37-96d32ae940fa>\"\u001b[0;36m, line \u001b[0;32m5\u001b[0m\n\u001b[0;31m    digits =number%10\u001b[0m\n\u001b[0m         ^\u001b[0m\n\u001b[0;31mIndentationError\u001b[0m\u001b[0;31m:\u001b[0m expected an indented block\n"
          ]
        }
      ]
    },
    {
      "cell_type": "markdown",
      "source": [
        "strings"
      ],
      "metadata": {
        "id": "pmgUut6cu8tX"
      }
    },
    {
      "cell_type": "code",
      "source": [
        "for x in \"apple\":\n",
        " print(type(x))"
      ],
      "metadata": {
        "colab": {
          "base_uri": "https://localhost:8080/"
        },
        "id": "mNC6ZwM_u-gC",
        "outputId": "3ca4e42d-3c54-436c-9d47-26d3587d5924"
      },
      "execution_count": null,
      "outputs": [
        {
          "output_type": "stream",
          "name": "stdout",
          "text": [
            "<class 'str'>\n",
            "<class 'str'>\n",
            "<class 'str'>\n",
            "<class 'str'>\n",
            "<class 'str'>\n"
          ]
        }
      ]
    },
    {
      "cell_type": "markdown",
      "source": [
        "perfect"
      ],
      "metadata": {
        "id": "2kDsT14QwIGS"
      }
    },
    {
      "cell_type": "code",
      "source": [
        "num=int(input(\"Enter the number: \"))  \n",
        "sum_v=0  \n",
        "for i in range(1,num):  \n",
        "    if (num%i==0):  \n",
        "        sum_v=sum_v+i  \n",
        "if(sum_v==num):  \n",
        "    print(\"The entered number is a perfect number\")  \n",
        "else:  \n",
        "    print(\"The entered number is not a perfect number\")  "
      ],
      "metadata": {
        "colab": {
          "base_uri": "https://localhost:8080/"
        },
        "id": "luw0B-MRwYQK",
        "outputId": "a4e99e35-6f6c-4220-d0cf-62fe5fd4e2c6"
      },
      "execution_count": null,
      "outputs": [
        {
          "output_type": "stream",
          "name": "stdout",
          "text": [
            "Enter the number: 4\n",
            "The entered number is not a perfect number\n"
          ]
        }
      ]
    },
    {
      "cell_type": "markdown",
      "source": [
        "Compute compound interest using loop for a certain principal and interest amount\n"
      ],
      "metadata": {
        "id": "IiWD3_LMwfnK"
      }
    },
    {
      "cell_type": "code",
      "source": [
        "n=int(input(\"Enter the principle amount:\"))\n",
        "\n",
        "rate=int(input(\"Enter the rate:\"))\n",
        "\n",
        "years=int(input(\"Enter the number of years:\"))\n",
        "\n",
        "for i in range(years):\n",
        "\n",
        "    n=n+((n*rate)/100)\n",
        "\n",
        "print(n)\n"
      ],
      "metadata": {
        "colab": {
          "base_uri": "https://localhost:8080/"
        },
        "id": "FTOCzrgnwv2V",
        "outputId": "65ec8b5b-859f-4736-8a34-81fdb2b92451"
      },
      "execution_count": null,
      "outputs": [
        {
          "output_type": "stream",
          "name": "stdout",
          "text": [
            "Enter the principle amount:432\n",
            "Enter the rate:32\n",
            "Enter the number of years:43\n",
            "66094114.52953034\n"
          ]
        }
      ]
    }
  ]
}