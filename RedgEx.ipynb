{
  "nbformat": 4,
  "nbformat_minor": 0,
  "metadata": {
    "colab": {
      "name": "RedgEx",
      "provenance": [],
      "authorship_tag": "ABX9TyMs+U6bOwXVLHL8Rke/vFza",
      "include_colab_link": true
    },
    "kernelspec": {
      "name": "python3",
      "display_name": "Python 3"
    },
    "language_info": {
      "name": "python"
    }
  },
  "cells": [
    {
      "cell_type": "markdown",
      "metadata": {
        "id": "view-in-github",
        "colab_type": "text"
      },
      "source": [
        "<a href=\"https://colab.research.google.com/github/VU21CSEN0101426/python-/blob/module-5/RedgEx.ipynb\" target=\"_parent\"><img src=\"https://colab.research.google.com/assets/colab-badge.svg\" alt=\"Open In Colab\"/></a>"
      ]
    },
    {
      "cell_type": "markdown",
      "source": [
        "using search"
      ],
      "metadata": {
        "id": "LGWUpgrQLnar"
      }
    },
    {
      "cell_type": "code",
      "execution_count": null,
      "metadata": {
        "colab": {
          "base_uri": "https://localhost:8080/"
        },
        "id": "7FFO_eWmJTUz",
        "outputId": "e423e6c7-b178-45f9-c813-32a776ba1e32"
      },
      "outputs": [
        {
          "output_type": "stream",
          "name": "stdout",
          "text": [
            "yes match is found\n"
          ]
        }
      ],
      "source": [
        "import re\n",
        "txt=\"I am vaishnavi studying in GITAM in cse branch\"\n",
        "a=re.search(\"studying\",txt)\n",
        "if a:\n",
        "  print(\"yes match is found\")\n",
        "else:\n",
        "   print(\"match is not found\")"
      ]
    },
    {
      "cell_type": "markdown",
      "source": [
        "using findall "
      ],
      "metadata": {
        "id": "TJ6HhM6uNY_6"
      }
    },
    {
      "cell_type": "code",
      "source": [
        "import re\n",
        "txt=\"When in 2018 Lombok got hit by a deadly earthquake, hundreds of people lost their lives, thousands of people were injured and hundreds of thousands of people lost their homes. The school building of the SDN 1 school in Senggigi got heavily damaged as well.\"\n",
        "a=re.findall(\"h\",txt)\n",
        "print(a).\n"
      ],
      "metadata": {
        "colab": {
          "base_uri": "https://localhost:8080/"
        },
        "id": "AjUthCCxM4CU",
        "outputId": "7212f228-707c-4dc3-d559-1e6b43747a80"
      },
      "execution_count": null,
      "outputs": [
        {
          "output_type": "stream",
          "name": "stdout",
          "text": [
            "['h', 'h', 'h', 'h', 'h', 'h', 'h', 'h', 'h', 'h', 'h', 'h', 'h', 'h', 'h']\n"
          ]
        }
      ]
    },
    {
      "cell_type": "code",
      "source": [
        "import re\n",
        "txt=\"When in 2018 Lombok got hit by a deadly earthquake, hundreds of people lost their lives, thousands of people were injured and hundreds of thousands of people lost their homes. The school building of the SDN 1 school in Senggigi got heavily damaged as well.\"\n",
        "a=re.findall(\"people\",txt)\n",
        "if a:\n",
        "  print(\"match found\")\n",
        "else:\n",
        "  print(\"match not found\")\n"
      ],
      "metadata": {
        "colab": {
          "base_uri": "https://localhost:8080/"
        },
        "id": "cfroZe13PxMc",
        "outputId": "0b0f0fd9-d061-49f7-d587-afd578b29f8c"
      },
      "execution_count": null,
      "outputs": [
        {
          "output_type": "stream",
          "name": "stdout",
          "text": [
            "match found\n"
          ]
        }
      ]
    },
    {
      "cell_type": "markdown",
      "source": [
        "split function"
      ],
      "metadata": {
        "id": "eOb9vsmoQ2KG"
      }
    },
    {
      "cell_type": "code",
      "source": [
        "import re\n",
        "txt=\"When in 2018 Lombok got hit by a deadly earthquake, hundreds of people lost their lives, thousands of people were injured and hundreds of thousands of people lost their homes. The school building of the SDN 1 school in Senggigi got heavily damaged as well.\"\n",
        "a=re.split(\"\\s\",txt)\n",
        "print(a)"
      ],
      "metadata": {
        "colab": {
          "base_uri": "https://localhost:8080/"
        },
        "id": "TZ76ZYIXQ4_k",
        "outputId": "8d5fda9d-fc47-48f3-f60c-efb451dff6a2"
      },
      "execution_count": null,
      "outputs": [
        {
          "output_type": "stream",
          "name": "stdout",
          "text": [
            "['When', 'in', '2018', 'Lombok', 'got', 'hit', 'by', 'a', 'deadly', 'earthquake,', 'hundreds', 'of', 'people', 'lost', 'their', 'lives,', 'thousands', 'of', 'people', 'were', 'injured', 'and', 'hundreds', 'of', 'thousands', 'of', 'people', 'lost', 'their', 'homes.', 'The', 'school', 'building', 'of', 'the', 'SDN', '1', 'school', 'in', 'Senggigi', 'got', 'heavily', 'damaged', 'as', 'well.']\n"
          ]
        }
      ]
    },
    {
      "cell_type": "markdown",
      "source": [
        "max. split"
      ],
      "metadata": {
        "id": "pnF-ItgPRLZT"
      }
    },
    {
      "cell_type": "code",
      "source": [
        "import re\n",
        "txt=\"When in 2018 Lombok got hit by a deadly earthquake, hundreds of people lost their lives, thousands of people were injured and hundreds of thousands of people lost their homes. The school building of the SDN 1 school in Senggigi got heavily damaged as well.\"\n",
        "a=re.split(\"\\s\",txt,7)\n",
        "print(a)"
      ],
      "metadata": {
        "colab": {
          "base_uri": "https://localhost:8080/"
        },
        "id": "ZBWjjGJ9RNpL",
        "outputId": "791f0c21-21d4-4b62-c635-f7645e7b8ff2"
      },
      "execution_count": null,
      "outputs": [
        {
          "output_type": "stream",
          "name": "stdout",
          "text": [
            "['When', 'in', '2018', 'Lombok', 'got', 'hit', 'by', 'a deadly earthquake, hundreds of people lost their lives, thousands of people were injured and hundreds of thousands of people lost their homes. The school building of the SDN 1 school in Senggigi got heavily damaged as well.']\n"
          ]
        }
      ]
    },
    {
      "cell_type": "markdown",
      "source": [
        "sub() function"
      ],
      "metadata": {
        "id": "xMViREpWR4yE"
      }
    },
    {
      "cell_type": "code",
      "source": [
        "import re\n",
        "txt=\"When in 2018 Lombok got hit by a deadly earthquake, hundreds of people lost their lives, thousands of people were injured and hundreds of thousands of people lost their homes. The school building of the SDN 1 school in Senggigi got heavily damaged as well.\"\n",
        "a=re.sub(\"\\s\",\"the\",txt)\n",
        "print(a)"
      ],
      "metadata": {
        "colab": {
          "base_uri": "https://localhost:8080/"
        },
        "id": "ZUciauG4R97b",
        "outputId": "a66cd9a0-9f0e-4488-f705-36e86cc40773"
      },
      "execution_count": null,
      "outputs": [
        {
          "output_type": "stream",
          "name": "stdout",
          "text": [
            "Whentheinthe2018theLombokthegotthehitthebytheathedeadlytheearthquake,thehundredstheofthepeoplethelostthetheirthelives,thethousandstheofthepeopletheweretheinjuredtheandthehundredstheofthethousandstheofthepeoplethelostthetheirthehomes.theThetheschoolthebuildingtheofthethetheSDNthe1theschooltheintheSenggigithegottheheavilythedamagedtheasthewell.\n"
          ]
        }
      ]
    },
    {
      "cell_type": "code",
      "source": [
        "import re\n",
        "txt=\"When in 2018 Lombok got hit by a deadly earthquake, hundreds of people lost their lives, thousands of people were injured and hundreds of thousands of people lost their homes. The school building of the SDN 1 school in Senggigi got heavily damaged as well.\"\n",
        "a=re.sub(\"\\s\",\"the\",txt,4)\n",
        "print(a)"
      ],
      "metadata": {
        "colab": {
          "base_uri": "https://localhost:8080/"
        },
        "id": "dunehvq2R9_7",
        "outputId": "3306fc70-1ac0-4a6f-91dd-e5e7b512349b"
      },
      "execution_count": null,
      "outputs": [
        {
          "output_type": "stream",
          "name": "stdout",
          "text": [
            "Whentheinthe2018theLombokthegot hit by a deadly earthquake, hundreds of people lost their lives, thousands of people were injured and hundreds of thousands of people lost their homes. The school building of the SDN 1 school in Senggigi got heavily damaged as well.\n"
          ]
        }
      ]
    },
    {
      "cell_type": "markdown",
      "source": [
        "[    ]-- to print set of characters between the given alphabets "
      ],
      "metadata": {
        "id": "urYoaw3ASvyU"
      }
    },
    {
      "cell_type": "code",
      "source": [
        "import re\n",
        "txt=\"When in 2018 Lombok got hit by a deadly earthquake, hundreds of people lost their lives, thousands of people were injured and hundreds of thousands of people lost their homes. The school building of the SDN 1 school in Senggigi got heavily damaged as well.\"\n",
        "a=re.findall(\"[a-h]\",txt)\n",
        "print(a)"
      ],
      "metadata": {
        "colab": {
          "base_uri": "https://localhost:8080/"
        },
        "id": "SKG-TyF6TAx5",
        "outputId": "6546396e-5668-4406-c393-593290667182"
      },
      "execution_count": null,
      "outputs": [
        {
          "output_type": "stream",
          "name": "stdout",
          "text": [
            "['h', 'e', 'b', 'g', 'h', 'b', 'a', 'd', 'e', 'a', 'd', 'e', 'a', 'h', 'a', 'e', 'h', 'd', 'e', 'd', 'f', 'e', 'e', 'h', 'e', 'e', 'h', 'a', 'd', 'f', 'e', 'e', 'e', 'e', 'e', 'd', 'a', 'd', 'h', 'd', 'e', 'd', 'f', 'h', 'a', 'd', 'f', 'e', 'e', 'h', 'e', 'h', 'e', 'h', 'e', 'c', 'h', 'b', 'd', 'g', 'f', 'h', 'e', 'c', 'h', 'e', 'g', 'g', 'g', 'g', 'h', 'e', 'a', 'd', 'a', 'a', 'g', 'e', 'd', 'a', 'e']\n"
          ]
        }
      ]
    },
    {
      "cell_type": "markdown",
      "source": [
        "\"\\d\"-- to print only numbers"
      ],
      "metadata": {
        "id": "QclBW8QyTYCd"
      }
    },
    {
      "cell_type": "code",
      "source": [
        "import re\n",
        "txt=\"When in 2018 Lombok got hit by a deadly earthquake, hundreds of people lost their lives, thousands of people were injured and hundreds of thousands of people lost their homes. The school building of the SDN 1 school in Senggigi got heavily damaged as well.\"\n",
        "a=re.findall(\"\\d\",txt)\n",
        "print(a)"
      ],
      "metadata": {
        "colab": {
          "base_uri": "https://localhost:8080/"
        },
        "id": "pWkfjpDuTYKl",
        "outputId": "2c65b899-1cff-4b0b-e7af-479c320c38d7"
      },
      "execution_count": null,
      "outputs": [
        {
          "output_type": "stream",
          "name": "stdout",
          "text": [
            "['2', '0', '1', '8', '1']\n"
          ]
        }
      ]
    },
    {
      "cell_type": "markdown",
      "source": [
        ".--Any character (except newline character)"
      ],
      "metadata": {
        "id": "vM4yVwF8TuFw"
      }
    },
    {
      "cell_type": "code",
      "source": [
        "import re\n",
        "txt=\"earthquake says hello in japan\"\n",
        "a=re.findall(\"ea.......e\",txt)\n",
        "print(a)\n"
      ],
      "metadata": {
        "colab": {
          "base_uri": "https://localhost:8080/"
        },
        "id": "AtuwTqwtTwuo",
        "outputId": "87cb4094-5894-4424-ad66-c76162143d17"
      },
      "execution_count": null,
      "outputs": [
        {
          "output_type": "stream",
          "name": "stdout",
          "text": [
            "['earthquake']\n"
          ]
        }
      ]
    },
    {
      "cell_type": "markdown",
      "source": [
        "^-starts with"
      ],
      "metadata": {
        "id": "lsMnUX2E1Wl3"
      }
    },
    {
      "cell_type": "code",
      "source": [
        "import re\n",
        "txt=(\"When in 2018 Lombok got hit by a deadly earthquake, hundreds of people lost their lives, thousands of people were injured and hundreds of thousands of people lost their homes. The school building of the SDN 1 school in Senggigi got heavily damaged as well.\")\n",
        "a=re.findall(\"^people\",txt)\n",
        "if a:\n",
        "  print(\"yes, it start with people \")\n",
        "else:\n",
        "  print(\"no match\")"
      ],
      "metadata": {
        "id": "4klQCDw81Wwp",
        "colab": {
          "base_uri": "https://localhost:8080/"
        },
        "outputId": "a61e281c-a3d8-41c7-f733-56e8732967f0"
      },
      "execution_count": null,
      "outputs": [
        {
          "output_type": "stream",
          "name": "stdout",
          "text": [
            "no match\n"
          ]
        }
      ]
    },
    {
      "cell_type": "code",
      "source": [
        "import re\n",
        "txt=(\"When in 2018 Lombok got hit by a deadly earthquake, hundreds of people lost their lives, thousands of people were injured and hundreds of thousands of people lost their homes. The school building of the SDN 1 school in Senggigi got heavily damaged as well.\")\n",
        "a=re.findall(\"^When\",txt)\n",
        "if a:\n",
        "  print(\"yes, it start\")\n",
        "else:\n",
        "  print(\"no match\")"
      ],
      "metadata": {
        "colab": {
          "base_uri": "https://localhost:8080/"
        },
        "id": "Xd0sY6J83oPI",
        "outputId": "cc51ace4-71ad-44d2-b219-aadd3645d52a"
      },
      "execution_count": null,
      "outputs": [
        {
          "output_type": "stream",
          "name": "stdout",
          "text": [
            "yes, it start\n"
          ]
        }
      ]
    },
    {
      "cell_type": "markdown",
      "source": [
        "$- ends with"
      ],
      "metadata": {
        "id": "vrGaQ9JR32e3"
      }
    },
    {
      "cell_type": "code",
      "source": [
        "import re\n",
        "txt=(\"When in 2018 Lombok got hit by a deadly earthquake, hundreds of people lost their lives, thousands of people were injured and hundreds of thousands of people lost their homes. The school building of the SDN 1 school in Senggigi got heavily damaged as well\")\n",
        "a=re.findall(\"well$\",txt)\n",
        "if a:\n",
        "  print(\"yes, it ends \")\n",
        "else:\n",
        "  print(\"no match\")"
      ],
      "metadata": {
        "colab": {
          "base_uri": "https://localhost:8080/"
        },
        "id": "GlKmAQR_32p-",
        "outputId": "39bf69cb-dd03-44ab-b06a-302accd453e1"
      },
      "execution_count": null,
      "outputs": [
        {
          "output_type": "stream",
          "name": "stdout",
          "text": [
            "yes, it ends \n"
          ]
        }
      ]
    },
    {
      "cell_type": "code",
      "source": [
        "# "
      ],
      "metadata": {
        "id": "9ZD1_C6v1LBx"
      },
      "execution_count": null,
      "outputs": []
    }
  ]
}